{
 "cells": [
  {
   "cell_type": "code",
   "execution_count": null,
   "metadata": {},
   "outputs": [],
   "source": [
    "from bart_score import BARTScorer\n",
    "bart_scorer = BARTScorer(device='cuda:0', checkpoint='facebook/bart-large-cnn')\n",
    "bart_scorer.score(['Have a good day.', 'swing Tristana in a very good position I was talking about it yesterday like the build is very forgiving'],\n",
    "                  ['Have a nice day.', 'there’s some interesting activity with items being destroyed and purchased'])"
   ]
  }
 ],
 "metadata": {
  "language_info": {
   "name": "python"
  }
 },
 "nbformat": 4,
 "nbformat_minor": 2
}
