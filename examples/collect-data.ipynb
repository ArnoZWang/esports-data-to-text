{
 "cells": [
  {
   "cell_type": "markdown",
   "metadata": {},
   "source": [
    "# Preparation"
   ]
  },
  {
   "cell_type": "code",
   "execution_count": null,
   "metadata": {},
   "outputs": [],
   "source": [
    "# For copyright protection and for a better extensibility, the page of game match history is not provided here.\n",
    "# Please download the page from related websites and put it in the same directory as this script.\n",
    "# For example, the information of 2019 World Championship can be downloaded from this Wiki site (https://lol.fandom.com/wiki/2019_Season_World_Championship/Match_History).\n",
    "\n",
    "from bs4 import BeautifulSoup\n",
    "\n",
    "url = \"wiki/2019-world.html\"\n",
    "soup = BeautifulSoup(open(url,'r',encoding = 'utf-8'))"
   ]
  },
  {
   "cell_type": "code",
   "execution_count": null,
   "metadata": {},
   "outputs": [],
   "source": [
    "matchhistory = []\n",
    "vod = []\n",
    "for k in soup.find_all('a'):\n",
    "    try:\n",
    "        strurl = k['href']\n",
    "        if strurl.startswith('http://matchhistory.na.leagueoflegends.com') or strurl.startswith('https://matchhistory.na.leagueoflegends.com'):\n",
    "            matchhistory.append(strurl)\n",
    "        if strurl.startswith('https://youtu.be'):\n",
    "            vod.append(strurl)\n",
    "    except:\n",
    "        continue # some games have no or broken match history and vods, skip them"
   ]
  },
  {
   "cell_type": "markdown",
   "metadata": {},
   "source": [
    "# Read & Collect Structured Data Records"
   ]
  },
  {
   "cell_type": "code",
   "execution_count": null,
   "metadata": {
    "scrolled": true
   },
   "outputs": [],
   "source": [
    "# Note that LoL's API is changable during different seasons and versions, so the following code may not work for all games.\n",
    "# For the latest games, please refer to the updates of the official API documentation (https://developer.riotgames.com/).\n",
    "\n",
    "aceurl = []\n",
    "for strurl in matchhistory:\n",
    "    if strurl.startswith('http://matchhistory.na.leagueoflegends.com'):\n",
    "        esportsnum = strurl[61:74]\n",
    "        gamenum = strurl[75:82]\n",
    "        gamehash = strurl[92:]\n",
    "    if strurl.startswith('https://matchhistory.na.leagueoflegends.com'):\n",
    "        esportsnum = strurl[62:75]\n",
    "        gamenum = strurl[76:83]\n",
    "        gamehash = strurl[93:]\n",
    "    aceurl.append('https://acs.leagueoflegends.com/v1/stats/game/'+esportsnum+'/'+gamenum+'/timeline?gameHash='+gamehash)\n",
    "\n",
    "for i in aceurl:\n",
    "    print(i)"
   ]
  },
  {
   "cell_type": "markdown",
   "metadata": {},
   "source": [
    "# Collect Game Contest Video Subtitles"
   ]
  },
  {
   "cell_type": "code",
   "execution_count": null,
   "metadata": {},
   "outputs": [],
   "source": [
    "from pytube import YouTube\n",
    "import pysrt\n",
    "\n",
    "captions = []\n",
    "\n",
    "for vodurl in vod:\n",
    "    print(vodurl)\n",
    "    source = YouTube(vodurl)\n",
    "    en_caption = source.captions.get_by_language_code('en')\n",
    "    try:\n",
    "        en_caption_convert_to_srt =(en_caption.generate_srt_captions())\n",
    "    except:\n",
    "        captions.append(\"Null\")\n",
    "        continue # some vods have no or broken subtitles (captions), skip them\n",
    "    \n",
    "    file = 'xxx.srt' # the file name is customized\n",
    "    with open(file, 'w', encoding='utf-8') as filetowrite:\n",
    "        filetowrite.write(en_caption_convert_to_srt)\n",
    "    subs = pysrt.open('xxx.srt')\n",
    "    caption = ''\n",
    "    for sub in subs:\n",
    "        caption += (' '+sub.text)\n",
    "    captions.append(caption)"
   ]
  }
 ],
 "metadata": {
  "kernelspec": {
   "display_name": "Python 3",
   "language": "python",
   "name": "python3"
  },
  "language_info": {
   "codemirror_mode": {
    "name": "ipython",
    "version": 3
   },
   "file_extension": ".py",
   "mimetype": "text/x-python",
   "name": "python",
   "nbconvert_exporter": "python",
   "pygments_lexer": "ipython3",
   "version": "3.6.8"
  }
 },
 "nbformat": 4,
 "nbformat_minor": 2
}
